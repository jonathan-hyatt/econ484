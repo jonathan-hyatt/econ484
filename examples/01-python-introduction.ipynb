{
  "cells": [
    {
      "cell_type": "markdown",
      "metadata": {
        "id": "lvdQWBOofSEw"
      },
      "source": [
        "Here's a brief introduction to Python.\n",
        "\n",
        "These tools will give you all the tools you need to answer the exercise questions at the end of this notebook.\n",
        "\n",
        "If anyone is using `python 2.7`, you have to worry about about strange division between `int` and `float` but all of you should have `python 3.*` on your computer so it shouldn't be a problem.\n",
        "\n",
        "If you want to verify your version of python, run the cell below."
      ]
    },
    {
      "cell_type": "code",
      "execution_count": null,
      "metadata": {
        "id": "pJBKJkuUfSE0"
      },
      "outputs": [],
      "source": [
        "import sys\n",
        "print(sys.version.split()[0])"
      ]
    },
    {
      "cell_type": "markdown",
      "source": [
        "[![Open in Colab](https://colab.research.google.com/assets/colab-badge.svg)](https://colab.research.google.com/github/brighamfrandsen/econ484/blob/master/examples/pca.ipynb)"
      ],
      "metadata": {
        "id": "e4pAvJ4heT6_"
      }
    },
    {
      "cell_type": "markdown",
      "metadata": {
        "id": "rNCjuokXfSE1"
      },
      "source": [
        "### Introduction to basic classes and numeric python operations"
      ]
    },
    {
      "cell_type": "code",
      "execution_count": null,
      "metadata": {
        "id": "jbty18zufSE1"
      },
      "outputs": [],
      "source": [
        "## Introduction to objects\n",
        "# integers (\"int\"): This is how python stores whole numbers\n",
        "a = 3\n",
        "b = int(7)\n",
        "print(type(a))\n",
        "print(a+b)"
      ]
    },
    {
      "cell_type": "code",
      "execution_count": null,
      "metadata": {
        "id": "GHJf9-4-fSE2"
      },
      "outputs": [],
      "source": [
        "# floats: This is how python stores real numbers that contain decimals\n",
        "c = 3.14159265359\n",
        "d = 2.718281828459\n",
        "print(type(c))\n",
        "print(c*d)"
      ]
    },
    {
      "cell_type": "code",
      "execution_count": null,
      "metadata": {
        "id": "I8h9a4W6fSE2"
      },
      "outputs": [],
      "source": [
        "## Formatting Floats\n",
        "# method 1\n",
        "print(\"{:.2f}\".format(c*d)) # {} is the place holder for the argument.\n",
        "                            # defines the arguement. \":.2f\" means \"Round my output to 2 decimals\"\n",
        "                            # c*d is the argument being passed in."
      ]
    },
    {
      "cell_type": "code",
      "execution_count": null,
      "metadata": {
        "id": "XKf30Y3UfSE3"
      },
      "outputs": [],
      "source": [
        "print(\"I can use {} {}.\".format(\"multiple\", \"placeholders\"))"
      ]
    },
    {
      "cell_type": "code",
      "execution_count": null,
      "metadata": {
        "id": "OJHBA899fSE3"
      },
      "outputs": [],
      "source": [
        "# method 2\n",
        "print(f\"This is f-string (format string) {c*d:.3f}\")"
      ]
    },
    {
      "cell_type": "code",
      "execution_count": null,
      "metadata": {
        "id": "jEcWlqBjfSE4"
      },
      "outputs": [],
      "source": [
        "# power\n",
        "print(f\"{a}**{b} or pow({a},{b}) = {a**b}\")"
      ]
    },
    {
      "cell_type": "code",
      "execution_count": null,
      "metadata": {
        "id": "iWIx2O3EfSE4"
      },
      "outputs": [],
      "source": [
        "# modulus is the remainder after division\n",
        "print(f\"{b}%{a} = {b%a}\")"
      ]
    },
    {
      "cell_type": "code",
      "execution_count": null,
      "metadata": {
        "id": "ToeT_eRMfSE5"
      },
      "outputs": [],
      "source": [
        "# floor division rounds down to the nearest integer.\n",
        "print(f\"Regular division results in: {b}/{a}= {b/a:.2f}\")"
      ]
    },
    {
      "cell_type": "code",
      "execution_count": null,
      "metadata": {
        "id": "beHH3KiAfSE5"
      },
      "outputs": [],
      "source": [
        "print(f\"While flooring: {b}//{a}= {b//a} which is the same as int({b/a:.2f}) = {int(b//a)}\")"
      ]
    },
    {
      "cell_type": "markdown",
      "metadata": {
        "id": "O3_hTVS6fSE5"
      },
      "source": [
        "### Introduction to conditions and booleans"
      ]
    },
    {
      "cell_type": "code",
      "execution_count": null,
      "metadata": {
        "id": "ZkQPwkQcfSE6"
      },
      "outputs": [],
      "source": [
        "# We can compare numbers using the following operations\n",
        "# >=, <=, ==\n",
        "bool1 = 3 > 2\n",
        "bool2 = 2 <= 1\n",
        "print(bool1, bool2)"
      ]
    },
    {
      "cell_type": "code",
      "execution_count": null,
      "metadata": {
        "id": "N0KWxm28fSE6"
      },
      "outputs": [],
      "source": [
        "# These results are stored as booleans which can\n",
        "# be accessed directly with the keyword arguments \"True\" and \"False\"\n",
        "print(bool1 == True)"
      ]
    },
    {
      "cell_type": "code",
      "execution_count": null,
      "metadata": {
        "id": "ErrsI4p1fSE6"
      },
      "outputs": [],
      "source": [
        "print(bool2 == False)"
      ]
    },
    {
      "cell_type": "code",
      "execution_count": null,
      "metadata": {
        "id": "8uXuEBWdfSE6"
      },
      "outputs": [],
      "source": [
        "# We can use booleans to make conditional code.\n",
        "a = 3\n",
        "b = 2\n",
        "c = 5\n",
        "resonse = None\n",
        "\n",
        "if a*b > c: # if true then run the code right after it\n",
        "    response = True\n",
        "else:      # if the conditoin above isn't true, do this instead.\n",
        "    response = False\n",
        "response"
      ]
    },
    {
      "cell_type": "code",
      "execution_count": null,
      "metadata": {
        "id": "dbm4ssEIfSE7"
      },
      "outputs": [],
      "source": [
        "# but we could have done this with fewer lines of code.\n",
        "response = a*b > c\n",
        "response\n",
        "# see how much easier that is to read!"
      ]
    },
    {
      "cell_type": "markdown",
      "metadata": {
        "id": "E3JyjUVQfSE7"
      },
      "source": [
        "### Introduction to lists and \"loops\""
      ]
    },
    {
      "cell_type": "code",
      "execution_count": null,
      "metadata": {
        "id": "Xjx8b0lWfSE7"
      },
      "outputs": [],
      "source": [
        "# sometimes we want to repeat an operation until a condition is met.\n",
        "# For example. How many times do we need to divide 100 by 2 before it's smaller than 3?\n",
        "\n",
        "count = 0\n",
        "num = 100\n",
        "while num >= 3:\n",
        "    num = num / 2\n",
        "    count = count + 1\n",
        "count"
      ]
    },
    {
      "cell_type": "code",
      "execution_count": null,
      "metadata": {
        "id": "T2YhpmXtfSE7",
        "colab": {
          "base_uri": "https://localhost:8080/"
        },
        "outputId": "0455fbf5-34d5-42df-dadc-88a899c15df0"
      },
      "outputs": [
        {
          "output_type": "stream",
          "name": "stdout",
          "text": [
            "2\n",
            "4\n",
            "6\n",
            "8\n",
            "10\n"
          ]
        },
        {
          "output_type": "execute_result",
          "data": {
            "text/plain": [
              "[1, 2, 3, 4, 5]"
            ]
          },
          "metadata": {},
          "execution_count": 1
        }
      ],
      "source": [
        "# The most common type of loop is the \"for loop\"\n",
        "# We can make something called a \"list\" and do operations on the contents of the list\n",
        "mylist = [1,2,3,4,5]\n",
        "for num in mylist:\n",
        "    num *= 2\n",
        "    print(num)\n",
        "mylist\n",
        "# we did operations on the list but we didn't change the list... What happened? -- Don't worry about it too much."
      ]
    },
    {
      "cell_type": "code",
      "execution_count": null,
      "metadata": {
        "id": "uFOZlGvFfSE8"
      },
      "outputs": [],
      "source": [
        "# As was eluded to earlier, there are good and bad ways to do things in Python\n",
        "# here's a bad way....\n",
        "newlist = [] # empty list\n",
        "mylist = [1,2,3,4,5]\n",
        "for num in mylist:\n",
        "    num *= 2\n",
        "    newlist.append(num) # \"list\" is a class that has a function called \"append\"\n",
        "                        # we access functions of an object by using a \".\"\n",
        "newlist"
      ]
    },
    {
      "cell_type": "code",
      "execution_count": null,
      "metadata": {
        "id": "fGRv_XpLfSE8"
      },
      "outputs": [],
      "source": [
        "# if you've done some stuff with c++ maybe you'd want to do it this way\n",
        "mylist = list(range(1,7))         # \"range\" is a shorthand way of writing \"From 1 to the number just before 7\"\n",
        "for i, num in enumerate(mylist):  # enumerate \"counts\" how many times we've completed a loop around the code\n",
        "    mylist[i] = num*2             # the brackets [] are an \"indexer\". They say \"get the element at position 'i'\"\n",
        "mylist"
      ]
    },
    {
      "cell_type": "code",
      "execution_count": null,
      "metadata": {
        "id": "5xYGBJ8KfSE8"
      },
      "outputs": [],
      "source": [
        "# neither of these ways are \"pythonic\"\n",
        "# one of the hallmarks of python is how concisely we can do operations.\n",
        "newlist = [num*2 for num in range(1,7)]\n",
        "newlist"
      ]
    },
    {
      "cell_type": "markdown",
      "metadata": {
        "id": "cdKmKSD7fSE8"
      },
      "source": [
        "### Introduction to functions"
      ]
    },
    {
      "cell_type": "code",
      "execution_count": null,
      "metadata": {
        "id": "nOWE14kRfSE8"
      },
      "outputs": [],
      "source": [
        "# if we have something that we'd like to be able to do repeatedly at different points in our code,\n",
        "# it usually takes up the least space and the easiest to read if we make a method that does the\n",
        "# operation for us."
      ]
    },
    {
      "cell_type": "code",
      "execution_count": null,
      "metadata": {
        "id": "uzsHBfyZfSE9"
      },
      "outputs": [],
      "source": [
        "# For example, what would we do if we didn't have the \"*\" operation available to us?\n",
        "# We could we write a function that would have the same effect as multiplying two numbers together.\n",
        "# (technically we could write a function that multiplies and indefinite number of arguments together\n",
        "#  but we're just learning the basics right now.)"
      ]
    },
    {
      "cell_type": "code",
      "execution_count": null,
      "metadata": {
        "id": "RwHcHxKCfSE9"
      },
      "outputs": [],
      "source": [
        "# the not-so-good way.\n",
        "def multiply(a, b):       # \"def\" means we're going to write a function\n",
        "    product = 0           # \"multiplication\" is the name of the funciton\n",
        "    for i in range(b):    # (a, b) are the arguments we can pass into the function\n",
        "        product += a\n",
        "    return product\n",
        "\n",
        "result = multiply(5,5) # we pass in what a and b are into the function using \"()\"\n",
        "result"
      ]
    },
    {
      "cell_type": "code",
      "execution_count": null,
      "metadata": {
        "id": "Jn6jvNVsfSE9"
      },
      "outputs": [],
      "source": [
        "# the python way.\n",
        "def multiply(a, b):\n",
        "    return sum([a for i in range(b)])\n",
        "\n",
        "multiply(6,4)"
      ]
    },
    {
      "cell_type": "code",
      "execution_count": null,
      "metadata": {
        "id": "ZdUw2JZNfSE9"
      },
      "outputs": [],
      "source": [
        "## Here's how you can write a function that multiplies\n",
        "## An indefinite number of numbers together.\n",
        "## (Without passing them in as a list)\n",
        "\n",
        "# none pythonic\n",
        "def multiply(*args):\n",
        "    assert len(args) >= 2\n",
        "\n",
        "    base = 1\n",
        "    for num in args:\n",
        "        tot = 0\n",
        "        for i in range(num):\n",
        "            tot += base\n",
        "#             print(tot) # <-- to see verbosely how the function \"multiplies\"\n",
        "        base = tot\n",
        "    return tot\n",
        "\n",
        "multiply(5,5,5)\n",
        "\n",
        "# pythonic\n",
        "def multiply(*args):\n",
        "    assert len(args) >= 2\n",
        "\n",
        "    base = 1\n",
        "    for num in args:\n",
        "        base = sum([base for i in range(num)])\n",
        "    return base\n",
        "\n",
        "multiply(6,5,2)"
      ]
    },
    {
      "cell_type": "markdown",
      "metadata": {
        "id": "2GyoCzoJfSE9"
      },
      "source": [
        "### Conclusion\n",
        "\n",
        "That's a very brief introductoin to how some basic types in python work.\n",
        "\n",
        "Spend some time messing around with these or start the exercises."
      ]
    },
    {
      "cell_type": "markdown",
      "metadata": {
        "id": "QXlgWlpLfSE9"
      },
      "source": [
        "### EXERCISES\n",
        "\n",
        "Do this following exercises **without** using any imports. (if you don't know what these are, you don't need to worry about it)"
      ]
    },
    {
      "cell_type": "markdown",
      "metadata": {
        "id": "ZoG6asi3fSE9"
      },
      "source": [
        "1. Without using any imports (if you don't know what these are, don't worry about it) **write a function** that will compute the inner product of any two equal-sized vectors. **HINT** 1) look up the command `zip`. 2) the body of this function is one line if you do it \"the pythonic way\"\n",
        "\n",
        "    For example if x = [1,5,10] and y = [1,2,3] then x * y= [1 * 1 + 5 * 2 + 3 * 10] = [41]"
      ]
    },
    {
      "cell_type": "code",
      "execution_count": null,
      "metadata": {
        "id": "5xqv3UB6fSE-"
      },
      "outputs": [],
      "source": []
    },
    {
      "cell_type": "markdown",
      "metadata": {
        "id": "ocJBwpnnfSE-"
      },
      "source": [
        "2. Write a function that calculates the euclidean distance (the sister to the euclidean norm) between two points that exist in the same space (i.e. both are from $R^2$ or $R^5$ or $R^n$). **HINT** 1) it's fine to look up the formula online and and translate it to python code. 2) the pythonic solution fits easily onto one line. 3) you can use parenthesis to make sure operations are happening in the correct order."
      ]
    },
    {
      "cell_type": "code",
      "execution_count": null,
      "metadata": {
        "id": "py6QLQoDfSE-"
      },
      "outputs": [],
      "source": []
    },
    {
      "cell_type": "markdown",
      "metadata": {
        "id": "YshR4imEfSE-"
      },
      "source": [
        "3. Write a function that will add the euclidean norms of two points from the same pace if either has a norm less than half of the other. Else have the function find the euclidean distance between the two points. **HINT** 1) you should be able to encorporate your previous function to do most almost all the heavy lifting for you. 2) What does `[0]*len([3,2,1])` do? 3) what does `1 < 2 < 3` equal? 4) What does `a, b = (1,2)` do? 5) technically this can be written in one line but it's attrocious, it can be written in two lines quite well, with three lines of code it can be made crystal clear what's happening."
      ]
    },
    {
      "cell_type": "code",
      "execution_count": null,
      "metadata": {
        "id": "Ns2YZPUafSE-"
      },
      "outputs": [],
      "source": []
    }
  ],
  "metadata": {
    "kernelspec": {
      "display_name": "Python 3",
      "language": "python",
      "name": "python3"
    },
    "language_info": {
      "codemirror_mode": {
        "name": "ipython",
        "version": 3
      },
      "file_extension": ".py",
      "mimetype": "text/x-python",
      "name": "python",
      "nbconvert_exporter": "python",
      "pygments_lexer": "ipython3",
      "version": "3.8.2"
    },
    "colab": {
      "provenance": []
    }
  },
  "nbformat": 4,
  "nbformat_minor": 0
}